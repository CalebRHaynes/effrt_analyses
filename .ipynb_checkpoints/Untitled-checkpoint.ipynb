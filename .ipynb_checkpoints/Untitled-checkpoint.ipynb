{
 "cells": [
  {
   "cell_type": "code",
   "execution_count": 15,
   "metadata": {},
   "outputs": [],
   "source": [
    "import pandas as pd\n",
    "import glob\n",
    "import os\n",
    "import seaborn as sns"
   ]
  },
  {
   "cell_type": "code",
   "execution_count": 16,
   "metadata": {},
   "outputs": [],
   "source": [
    "monetary_dfs = [pd.read_excel(i) for i in glob.glob(\"data/monetary/*.xlsx\")]"
   ]
  },
  {
   "cell_type": "code",
   "execution_count": 120,
   "metadata": {},
   "outputs": [],
   "source": [
    "for df in monetary_dfs:\n",
    "    completed_series = df['Completed'] == 1\n",
    "    easy_series = df['Choice'] == 0\n",
    "    hard_series = df['Choice'] == 1\n",
    "    win_series = df['Procedure'] == 'Win'\n",
    "    lose_series = df['Procedure'] == 'Lose'\n",
    "    prob_12_series = df['Probability'] == 12\n",
    "    prob_50_series = df['Probability'] == 50\n",
    "    prob_88_series = df['Probability'] == 88\n",
    "    \n",
    "    trial_count = df['Trials'].max()\n",
    "    completed_count = len(completed_series[completed_series == True].index)\n",
    "    easy_count = len(easy_series[easy_series == True].index)\n",
    "    hard_count = len(hard_series[hard_series == True].index)\n",
    "    unchosen_count = trial_count - easy_count - hard_count\n",
    "    win_count = len(win_series[win_series == True].index)\n",
    "    lose_count = len(lose_series[lose_series == True].index)\n",
    "    \n",
    "    prob_12_count = len(prob_12_series[prob_12_series == True].index)\n",
    "    prob_50_count = len(prob_50_series[prob_50_series == True].index)\n",
    "    prob_88_count = len(prob_88_series[prob_88_series == True].index)\n",
    "    \n",
    "    completed_perc = completed_count / trial_count\n",
    "    incomplete_perc = 1 - completed_perc  \n",
    "    hard_perc = hard_count / trial_count\n",
    "    easy_perc = easy_count / trial_count\n",
    "    win_perc = win_count / trial_count\n",
    "    lose_perc = lose_count / trial_count\n",
    "    prob_12_perc = prob_12_count / trial_count\n",
    "    prob_50_perc = prob_50_count / trial_count\n",
    "    prob_88_perc = prob_88_count / trial_count\n",
    "    \n",
    "    overall_reward_amounts = df['Amount']\n",
    "    overall_expectedValue_series = df['Amount'] * df['Probability'] / 100\n",
    "    \n",
    "    rt_series = df['Decision.RT']\n",
    "    rt_avg = rt_series.sum() / trial_count\n",
    "    \n",
    "    tapSpeed_series = df['TapSpeed']\n",
    "    tapSpeed_avg = tapSpeed_series.sum() / trial_count\n",
    "    \n",
    "    winnings_amt = df['Winnings'].sum()\n",
    "\n",
    "    \n",
    "    \n",
    "    \n",
    "    \n",
    "    \n",
    "    \n",
    "    "
   ]
  },
  {
   "cell_type": "code",
   "execution_count": null,
   "metadata": {},
   "outputs": [],
   "source": []
  }
 ],
 "metadata": {
  "kernelspec": {
   "display_name": "Python 3",
   "language": "python",
   "name": "python3"
  },
  "language_info": {
   "codemirror_mode": {
    "name": "ipython",
    "version": 3
   },
   "file_extension": ".py",
   "mimetype": "text/x-python",
   "name": "python",
   "nbconvert_exporter": "python",
   "pygments_lexer": "ipython3",
   "version": "3.5.2"
  }
 },
 "nbformat": 4,
 "nbformat_minor": 2
}
